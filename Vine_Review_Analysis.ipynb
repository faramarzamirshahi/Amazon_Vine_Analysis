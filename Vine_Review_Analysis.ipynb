{
 "metadata": {
  "language_info": {
   "codemirror_mode": {
    "name": "ipython",
    "version": 3
   },
   "file_extension": ".py",
   "mimetype": "text/x-python",
   "name": "python",
   "nbconvert_exporter": "python",
   "pygments_lexer": "ipython3",
   "version": "3.8.3-final"
  },
  "orig_nbformat": 2,
  "kernelspec": {
   "name": "python3",
   "display_name": "Python 3",
   "language": "python"
  }
 },
 "nbformat": 4,
 "nbformat_minor": 2,
 "cells": [
  {
   "cell_type": "code",
   "execution_count": 1,
   "metadata": {},
   "outputs": [],
   "source": [
    "from pandas import pandas as pd"
   ]
  },
  {
   "cell_type": "code",
   "execution_count": 3,
   "metadata": {},
   "outputs": [
    {
     "output_type": "execute_result",
     "data": {
      "text/plain": [
       "        review_id  star_rating  ...  vine  verified_purchase\n",
       "0   RMDCHWD0Y5OZ9          3.0  ...     N                  N\n",
       "1   RZSL0BALIYUNU          5.0  ...     N                  Y\n",
       "2   RIZR67JKUDBI0          3.0  ...     N                  Y\n",
       "3  R27HL570VNL85F          5.0  ...     N                  Y\n",
       "4  R34EBU9QDWJ1GD          5.0  ...     N                  Y\n",
       "\n",
       "[5 rows x 6 columns]"
      ],
      "text/html": "<div>\n<style scoped>\n    .dataframe tbody tr th:only-of-type {\n        vertical-align: middle;\n    }\n\n    .dataframe tbody tr th {\n        vertical-align: top;\n    }\n\n    .dataframe thead th {\n        text-align: right;\n    }\n</style>\n<table border=\"1\" class=\"dataframe\">\n  <thead>\n    <tr style=\"text-align: right;\">\n      <th></th>\n      <th>review_id</th>\n      <th>star_rating</th>\n      <th>helpful_votes</th>\n      <th>total_votes</th>\n      <th>vine</th>\n      <th>verified_purchase</th>\n    </tr>\n  </thead>\n  <tbody>\n    <tr>\n      <th>0</th>\n      <td>RMDCHWD0Y5OZ9</td>\n      <td>3.0</td>\n      <td>0.0</td>\n      <td>1.0</td>\n      <td>N</td>\n      <td>N</td>\n    </tr>\n    <tr>\n      <th>1</th>\n      <td>RZSL0BALIYUNU</td>\n      <td>5.0</td>\n      <td>0.0</td>\n      <td>0.0</td>\n      <td>N</td>\n      <td>Y</td>\n    </tr>\n    <tr>\n      <th>2</th>\n      <td>RIZR67JKUDBI0</td>\n      <td>3.0</td>\n      <td>0.0</td>\n      <td>1.0</td>\n      <td>N</td>\n      <td>Y</td>\n    </tr>\n    <tr>\n      <th>3</th>\n      <td>R27HL570VNL85F</td>\n      <td>5.0</td>\n      <td>0.0</td>\n      <td>0.0</td>\n      <td>N</td>\n      <td>Y</td>\n    </tr>\n    <tr>\n      <th>4</th>\n      <td>R34EBU9QDWJ1GD</td>\n      <td>5.0</td>\n      <td>0.0</td>\n      <td>0.0</td>\n      <td>N</td>\n      <td>Y</td>\n    </tr>\n  </tbody>\n</table>\n</div>"
     },
     "metadata": {},
     "execution_count": 3
    }
   ],
   "source": [
    "df = pd.read_csv('./Resources/vine_table.csv',header=0)\n",
    "df.head()"
   ]
  },
  {
   "cell_type": "code",
   "execution_count": 4,
   "metadata": {},
   "outputs": [
    {
     "output_type": "execute_result",
     "data": {
      "text/plain": [
       "           review_id  star_rating  ...  vine  verified_purchase\n",
       "28    R2243Y3OD8U6KQ          5.0  ...     N                  N\n",
       "85    R2TGT0CDTCAAHW          5.0  ...     N                  Y\n",
       "457    RX4D22YSXEF4P          1.0  ...     N                  Y\n",
       "1028  R3FL2NTLFUSPTQ          5.0  ...     N                  N\n",
       "1039  R3QTP3YNZXAPPF          3.0  ...     N                  Y\n",
       "\n",
       "[5 rows x 6 columns]"
      ],
      "text/html": "<div>\n<style scoped>\n    .dataframe tbody tr th:only-of-type {\n        vertical-align: middle;\n    }\n\n    .dataframe tbody tr th {\n        vertical-align: top;\n    }\n\n    .dataframe thead th {\n        text-align: right;\n    }\n</style>\n<table border=\"1\" class=\"dataframe\">\n  <thead>\n    <tr style=\"text-align: right;\">\n      <th></th>\n      <th>review_id</th>\n      <th>star_rating</th>\n      <th>helpful_votes</th>\n      <th>total_votes</th>\n      <th>vine</th>\n      <th>verified_purchase</th>\n    </tr>\n  </thead>\n  <tbody>\n    <tr>\n      <th>28</th>\n      <td>R2243Y3OD8U6KQ</td>\n      <td>5.0</td>\n      <td>47.0</td>\n      <td>61.0</td>\n      <td>N</td>\n      <td>N</td>\n    </tr>\n    <tr>\n      <th>85</th>\n      <td>R2TGT0CDTCAAHW</td>\n      <td>5.0</td>\n      <td>21.0</td>\n      <td>23.0</td>\n      <td>N</td>\n      <td>Y</td>\n    </tr>\n    <tr>\n      <th>457</th>\n      <td>RX4D22YSXEF4P</td>\n      <td>1.0</td>\n      <td>37.0</td>\n      <td>38.0</td>\n      <td>N</td>\n      <td>Y</td>\n    </tr>\n    <tr>\n      <th>1028</th>\n      <td>R3FL2NTLFUSPTQ</td>\n      <td>5.0</td>\n      <td>33.0</td>\n      <td>37.0</td>\n      <td>N</td>\n      <td>N</td>\n    </tr>\n    <tr>\n      <th>1039</th>\n      <td>R3QTP3YNZXAPPF</td>\n      <td>3.0</td>\n      <td>23.0</td>\n      <td>24.0</td>\n      <td>N</td>\n      <td>Y</td>\n    </tr>\n  </tbody>\n</table>\n</div>"
     },
     "metadata": {},
     "execution_count": 4
    }
   ],
   "source": [
    "df_sample = df[df.total_votes >= 20]\n",
    "df_sample.head()"
   ]
  },
  {
   "cell_type": "code",
   "execution_count": 5,
   "metadata": {},
   "outputs": [
    {
     "output_type": "execute_result",
     "data": {
      "text/plain": [
       "             review_id  star_rating  ...  vine  verified_purchase\n",
       "28      R2243Y3OD8U6KQ          5.0  ...     N                  N\n",
       "85      R2TGT0CDTCAAHW          5.0  ...     N                  Y\n",
       "457      RX4D22YSXEF4P          1.0  ...     N                  Y\n",
       "1028    R3FL2NTLFUSPTQ          5.0  ...     N                  N\n",
       "1039    R3QTP3YNZXAPPF          3.0  ...     N                  Y\n",
       "...                ...          ...  ...   ...                ...\n",
       "904759  R2EJ952S3YK254          4.0  ...     N                  N\n",
       "904760   R6MDTUK723YPY          4.0  ...     N                  N\n",
       "904761  R10B4417NCK98O          5.0  ...     N                  N\n",
       "904762  R3V2A0GUZ3JAQ4          4.0  ...     N                  N\n",
       "904763  R1VYXC7FFG4LGH          4.0  ...     N                  N\n",
       "\n",
       "[14496 rows x 6 columns]"
      ],
      "text/html": "<div>\n<style scoped>\n    .dataframe tbody tr th:only-of-type {\n        vertical-align: middle;\n    }\n\n    .dataframe tbody tr th {\n        vertical-align: top;\n    }\n\n    .dataframe thead th {\n        text-align: right;\n    }\n</style>\n<table border=\"1\" class=\"dataframe\">\n  <thead>\n    <tr style=\"text-align: right;\">\n      <th></th>\n      <th>review_id</th>\n      <th>star_rating</th>\n      <th>helpful_votes</th>\n      <th>total_votes</th>\n      <th>vine</th>\n      <th>verified_purchase</th>\n    </tr>\n  </thead>\n  <tbody>\n    <tr>\n      <th>28</th>\n      <td>R2243Y3OD8U6KQ</td>\n      <td>5.0</td>\n      <td>47.0</td>\n      <td>61.0</td>\n      <td>N</td>\n      <td>N</td>\n    </tr>\n    <tr>\n      <th>85</th>\n      <td>R2TGT0CDTCAAHW</td>\n      <td>5.0</td>\n      <td>21.0</td>\n      <td>23.0</td>\n      <td>N</td>\n      <td>Y</td>\n    </tr>\n    <tr>\n      <th>457</th>\n      <td>RX4D22YSXEF4P</td>\n      <td>1.0</td>\n      <td>37.0</td>\n      <td>38.0</td>\n      <td>N</td>\n      <td>Y</td>\n    </tr>\n    <tr>\n      <th>1028</th>\n      <td>R3FL2NTLFUSPTQ</td>\n      <td>5.0</td>\n      <td>33.0</td>\n      <td>37.0</td>\n      <td>N</td>\n      <td>N</td>\n    </tr>\n    <tr>\n      <th>1039</th>\n      <td>R3QTP3YNZXAPPF</td>\n      <td>3.0</td>\n      <td>23.0</td>\n      <td>24.0</td>\n      <td>N</td>\n      <td>Y</td>\n    </tr>\n    <tr>\n      <th>...</th>\n      <td>...</td>\n      <td>...</td>\n      <td>...</td>\n      <td>...</td>\n      <td>...</td>\n      <td>...</td>\n    </tr>\n    <tr>\n      <th>904759</th>\n      <td>R2EJ952S3YK254</td>\n      <td>4.0</td>\n      <td>46.0</td>\n      <td>47.0</td>\n      <td>N</td>\n      <td>N</td>\n    </tr>\n    <tr>\n      <th>904760</th>\n      <td>R6MDTUK723YPY</td>\n      <td>4.0</td>\n      <td>143.0</td>\n      <td>148.0</td>\n      <td>N</td>\n      <td>N</td>\n    </tr>\n    <tr>\n      <th>904761</th>\n      <td>R10B4417NCK98O</td>\n      <td>5.0</td>\n      <td>24.0</td>\n      <td>24.0</td>\n      <td>N</td>\n      <td>N</td>\n    </tr>\n    <tr>\n      <th>904762</th>\n      <td>R3V2A0GUZ3JAQ4</td>\n      <td>4.0</td>\n      <td>27.0</td>\n      <td>29.0</td>\n      <td>N</td>\n      <td>N</td>\n    </tr>\n    <tr>\n      <th>904763</th>\n      <td>R1VYXC7FFG4LGH</td>\n      <td>4.0</td>\n      <td>46.0</td>\n      <td>49.0</td>\n      <td>N</td>\n      <td>N</td>\n    </tr>\n  </tbody>\n</table>\n<p>14496 rows × 6 columns</p>\n</div>"
     },
     "metadata": {},
     "execution_count": 5
    }
   ],
   "source": [
    "df_filtered = df_sample[(df_sample.helpful_votes/df_sample.total_votes)>0.5]\n",
    "df_filtered"
   ]
  },
  {
   "cell_type": "code",
   "execution_count": 6,
   "metadata": {},
   "outputs": [],
   "source": [
    "# Create a df for each member type\n",
    "df_filtered_Y = df_filtered[df_filtered.vine=='Y']\n",
    "df_filtered_N = df_filtered[df_filtered.vine=='N']"
   ]
  },
  {
   "cell_type": "code",
   "execution_count": 17,
   "metadata": {},
   "outputs": [],
   "source": [
    "# Calculate the measures for each type\n",
    "TotalReviews_Y = df_filtered_Y.review_id.count()\n",
    "FiveStarReviews_Y = df_filtered_Y.review_id[df_filtered_Y.star_rating == 5.0].count()\n",
    "FiveStarPct_Y = FiveStarReviews_Y/TotalReviews_Y\n",
    "\n",
    "TotalReviews_N = df_filtered_N.review_id.count()\n",
    "FiveStarReviews_N = df_filtered_N.review_id[df_filtered_N.star_rating == 5.0].count()\n",
    "FiveStarPct_N = FiveStarReviews_N/TotalReviews_N"
   ]
  },
  {
   "cell_type": "code",
   "execution_count": 27,
   "metadata": {},
   "outputs": [],
   "source": [
    "# create a dataframe for the results\n",
    "df_analysis = pd.DataFrame([{'Vine member flag':'Y','Total Reviews':TotalReviews_Y,'Five Star Reviews':FiveStarReviews_Y,'Five Star Reviews %':FiveStarPct_Y},\n",
    "    {'Vine member flag':'N','Total Reviews':TotalReviews_N,'Five Star Reviews':FiveStarReviews_N,'Five Star Reviews %':FiveStarPct_N}\n",
    "    ])\n",
    "df_analysis.set_index('Vine member flag',inplace=True)"
   ]
  },
  {
   "cell_type": "code",
   "execution_count": 28,
   "metadata": {},
   "outputs": [
    {
     "output_type": "execute_result",
     "data": {
      "text/plain": [
       "                  Total Reviews  Five Star Reviews  Five Star Reviews %\n",
       "Vine member flag                                                       \n",
       "Y                            60                 34             0.566667\n",
       "N                         14436               8208             0.568579"
      ],
      "text/html": "<div>\n<style scoped>\n    .dataframe tbody tr th:only-of-type {\n        vertical-align: middle;\n    }\n\n    .dataframe tbody tr th {\n        vertical-align: top;\n    }\n\n    .dataframe thead th {\n        text-align: right;\n    }\n</style>\n<table border=\"1\" class=\"dataframe\">\n  <thead>\n    <tr style=\"text-align: right;\">\n      <th></th>\n      <th>Total Reviews</th>\n      <th>Five Star Reviews</th>\n      <th>Five Star Reviews %</th>\n    </tr>\n    <tr>\n      <th>Vine member flag</th>\n      <th></th>\n      <th></th>\n      <th></th>\n    </tr>\n  </thead>\n  <tbody>\n    <tr>\n      <th>Y</th>\n      <td>60</td>\n      <td>34</td>\n      <td>0.566667</td>\n    </tr>\n    <tr>\n      <th>N</th>\n      <td>14436</td>\n      <td>8208</td>\n      <td>0.568579</td>\n    </tr>\n  </tbody>\n</table>\n</div>"
     },
     "metadata": {},
     "execution_count": 28
    }
   ],
   "source": [
    "df_analysis"
   ]
  },
  {
   "cell_type": "code",
   "execution_count": null,
   "metadata": {},
   "outputs": [],
   "source": []
  }
 ]
}